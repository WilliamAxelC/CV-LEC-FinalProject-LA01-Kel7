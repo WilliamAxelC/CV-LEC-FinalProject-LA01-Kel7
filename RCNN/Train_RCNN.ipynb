{
 "cells": [
  {
   "cell_type": "code",
   "execution_count": 1,
   "metadata": {
    "id": "Ckim2bElxIad"
   },
   "outputs": [],
   "source": [
    "import torch\n",
    "import torchvision\n",
    "from torch.utils.data import DataLoader\n",
    "from torchvision.models.detection import FasterRCNN\n",
    "from torchvision.models.detection.faster_rcnn import FastRCNNPredictor\n",
    "from torchvision.datasets import CocoDetection\n",
    "from torchvision.transforms import functional as F\n",
    "import matplotlib.pyplot as plt\n",
    "from PIL import Image"
   ]
  },
  {
   "cell_type": "code",
   "execution_count": 2,
   "metadata": {
    "id": "EG28wGoI_y1A"
   },
   "outputs": [],
   "source": [
    "# Define transformations\n",
    "class CocoTransform:\n",
    "    def __call__(self, image, target):\n",
    "        image = F.to_tensor(image)  # Convert PIL image to tensor\n",
    "        return image, target"
   ]
  },
  {
   "cell_type": "code",
   "execution_count": 3,
   "metadata": {
    "colab": {
     "base_uri": "https://localhost:8080/"
    },
    "id": "BKFzMDil_0jx",
    "outputId": "3bd729a3-1144-4bf5-9292-65755cb890f5"
   },
   "outputs": [
    {
     "name": "stdout",
     "output_type": "stream",
     "text": [
      "loading annotations into memory...\n",
      "Done (t=0.18s)\n",
      "creating index...\n",
      "index created!\n",
      "loading annotations into memory...\n",
      "Done (t=0.00s)\n",
      "creating index...\n",
      "index created!\n"
     ]
    }
   ],
   "source": [
    "# Dataset class\n",
    "def get_coco_dataset(img_dir, ann_file):\n",
    "    return CocoDetection(\n",
    "        root=img_dir,\n",
    "        annFile=ann_file,\n",
    "        transforms=CocoTransform()\n",
    "    )\n",
    "\n",
    "# Load datasets\n",
    "train_dataset = get_coco_dataset(\n",
    "    img_dir=r\"D:\\AI stuff\\CV-LEC-FinalProject\\RCNN\\Construction Site Safety.v27-yolov8s.coco\\train\",\n",
    "    ann_file=r\"D:\\AI stuff\\CV-LEC-FinalProject\\RCNN\\Construction Site Safety.v27-yolov8s.coco\\train\\_annotations.coco.json\"\n",
    ")\n",
    "\n",
    "\n",
    "val_dataset = get_coco_dataset(\n",
    "    img_dir=r\"D:\\AI stuff\\CV-LEC-FinalProject\\RCNN\\Construction Site Safety.v27-yolov8s.coco\\valid\",\n",
    "    ann_file=r\"D:\\AI stuff\\CV-LEC-FinalProject\\RCNN\\Construction Site Safety.v27-yolov8s.coco\\valid\\_annotations.coco.json\"\n",
    ")\n",
    "\n",
    "\n",
    "\n",
    "# DataLoader\n",
    "train_loader = DataLoader(train_dataset, batch_size=8, shuffle=True, collate_fn=lambda x: tuple(zip(*x)))\n",
    "val_loader = DataLoader(val_dataset, batch_size=8, shuffle=False, collate_fn=lambda x: tuple(zip(*x)))"
   ]
  },
  {
   "cell_type": "code",
   "execution_count": 4,
   "metadata": {
    "id": "xxeqMJ9J_4Sv"
   },
   "outputs": [],
   "source": [
    "# Load Faster R-CNN with ResNet-50 backbone\n",
    "def get_model(num_classes):\n",
    "    # Load pre-trained Faster R-CNN\n",
    "    model = torchvision.models.detection.fasterrcnn_resnet50_fpn(pretrained=True)\n",
    "\n",
    "    # Get the number of input features for the classifier\n",
    "    in_features = model.roi_heads.box_predictor.cls_score.in_features\n",
    "\n",
    "    # Replace the pre-trained head with a new one\n",
    "    model.roi_heads.box_predictor = FastRCNNPredictor(in_features, num_classes)\n",
    "    return model"
   ]
  },
  {
   "cell_type": "code",
   "execution_count": 5,
   "metadata": {
    "colab": {
     "base_uri": "https://localhost:8080/"
    },
    "id": "CMUjshdg_6BW",
    "outputId": "1a1fc59c-da86-4c6e-9bab-42cc85ac13b0"
   },
   "outputs": [
    {
     "name": "stderr",
     "output_type": "stream",
     "text": [
      "c:\\Users\\willi\\miniconda3\\envs\\tGPU3.8\\lib\\site-packages\\torchvision\\models\\_utils.py:208: UserWarning: The parameter 'pretrained' is deprecated since 0.13 and may be removed in the future, please use 'weights' instead.\n",
      "  warnings.warn(\n",
      "c:\\Users\\willi\\miniconda3\\envs\\tGPU3.8\\lib\\site-packages\\torchvision\\models\\_utils.py:223: UserWarning: Arguments other than a weight enum or `None` for 'weights' are deprecated since 0.13 and may be removed in the future. The current behavior is equivalent to passing `weights=FasterRCNN_ResNet50_FPN_Weights.COCO_V1`. You can also use `weights=FasterRCNN_ResNet50_FPN_Weights.DEFAULT` to get the most up-to-date weights.\n",
      "  warnings.warn(msg)\n"
     ]
    }
   ],
   "source": [
    "# Initialize the model\n",
    "num_classes = 11 # Background + chair, human, table\n",
    "model = get_model(num_classes)"
   ]
  },
  {
   "cell_type": "code",
   "execution_count": 6,
   "metadata": {
    "id": "sJIcUaMU_7Cy"
   },
   "outputs": [],
   "source": [
    "# Move model to GPU if available\n",
    "device = torch.device('cuda') if torch.cuda.is_available() else torch.device('cpu')\n",
    "model.to(device)\n",
    "\n",
    "# Define optimizer and learning rate scheduler\n",
    "params = [p for p in model.parameters() if p.requires_grad]\n",
    "optimizer = torch.optim.SGD(params, lr=0.005, momentum=0.9, weight_decay=0.0005)\n",
    "lr_scheduler = torch.optim.lr_scheduler.StepLR(optimizer, step_size=3, gamma=0.1)"
   ]
  },
  {
   "cell_type": "code",
   "execution_count": 7,
   "metadata": {
    "id": "Mm7hcZpm_8VD"
   },
   "outputs": [],
   "source": [
    "def train_one_epoch(model, optimizer, data_loader, device, epoch):\n",
    "    model.train()\n",
    "    for images, targets in data_loader:\n",
    "        # Move images to the device\n",
    "        images = [img.to(device) for img in images]\n",
    "\n",
    "        # Validate and process targets\n",
    "        processed_targets = []\n",
    "        valid_images = []\n",
    "        for i, target in enumerate(targets):\n",
    "            boxes = []\n",
    "            labels = []\n",
    "            for obj in target:\n",
    "                # Extract bbox\n",
    "                bbox = obj[\"bbox\"]  # Format: [x, y, width, height]\n",
    "                x, y, w, h = bbox\n",
    "\n",
    "                # Ensure the width and height are positive\n",
    "                if w > 0 and h > 0:\n",
    "                    boxes.append([x, y, x + w, y + h])  # Convert to [x_min, y_min, x_max, y_max]\n",
    "                    labels.append(obj[\"category_id\"])\n",
    "\n",
    "            # Only process if there are valid boxes\n",
    "            if boxes:\n",
    "                processed_target = {\n",
    "                    \"boxes\": torch.tensor(boxes, dtype=torch.float32).to(device),\n",
    "                    \"labels\": torch.tensor(labels, dtype=torch.int64).to(device),\n",
    "                }\n",
    "                processed_targets.append(processed_target)\n",
    "                valid_images.append(images[i])  # Add only valid images\n",
    "\n",
    "        # Skip iteration if no valid targets\n",
    "        if not processed_targets:\n",
    "            continue\n",
    "\n",
    "        # Ensure images and targets are aligned\n",
    "        images = valid_images\n",
    "\n",
    "        # Forward pass\n",
    "        loss_dict = model(images, processed_targets)\n",
    "        losses = sum(loss for loss in loss_dict.values())\n",
    "\n",
    "        # Backpropagation\n",
    "        optimizer.zero_grad()\n",
    "        losses.backward()\n",
    "        optimizer.step()\n",
    "\n",
    "    print(f\"Epoch [{epoch}] Loss: {losses.item():.4f}\")"
   ]
  },
  {
   "cell_type": "code",
   "execution_count": 8,
   "metadata": {
    "colab": {
     "base_uri": "https://localhost:8080/"
    },
    "id": "jJfNidMT_9-N",
    "outputId": "42604914-237f-4727-9e08-310fb0e19c9e"
   },
   "outputs": [
    {
     "name": "stdout",
     "output_type": "stream",
     "text": [
      "Epoch [0] Loss: 1.1743\n",
      "Model saved: fasterrcnn_resnet50_epoch_1.pth\n",
      "Epoch [1] Loss: 0.8638\n",
      "Model saved: fasterrcnn_resnet50_epoch_2.pth\n",
      "Epoch [2] Loss: 1.0199\n",
      "Model saved: fasterrcnn_resnet50_epoch_3.pth\n",
      "Epoch [3] Loss: 0.9162\n",
      "Model saved: fasterrcnn_resnet50_epoch_4.pth\n",
      "Epoch [4] Loss: 0.5871\n",
      "Model saved: fasterrcnn_resnet50_epoch_5.pth\n",
      "Epoch [5] Loss: 0.5349\n",
      "Model saved: fasterrcnn_resnet50_epoch_6.pth\n",
      "Epoch [6] Loss: 0.4632\n",
      "Model saved: fasterrcnn_resnet50_epoch_7.pth\n",
      "Epoch [7] Loss: 0.5958\n",
      "Model saved: fasterrcnn_resnet50_epoch_8.pth\n",
      "Epoch [8] Loss: 0.5480\n",
      "Model saved: fasterrcnn_resnet50_epoch_9.pth\n",
      "Epoch [9] Loss: 0.6748\n",
      "Model saved: fasterrcnn_resnet50_epoch_10.pth\n",
      "Epoch [10] Loss: 0.6173\n",
      "Model saved: fasterrcnn_resnet50_epoch_11.pth\n",
      "Epoch [11] Loss: 0.7832\n",
      "Model saved: fasterrcnn_resnet50_epoch_12.pth\n",
      "Epoch [12] Loss: 0.7608\n",
      "Model saved: fasterrcnn_resnet50_epoch_13.pth\n",
      "Epoch [13] Loss: 0.6743\n",
      "Model saved: fasterrcnn_resnet50_epoch_14.pth\n",
      "Epoch [14] Loss: 1.0043\n",
      "Model saved: fasterrcnn_resnet50_epoch_15.pth\n",
      "Epoch [15] Loss: 0.5058\n",
      "Model saved: fasterrcnn_resnet50_epoch_16.pth\n",
      "Epoch [16] Loss: 0.5489\n",
      "Model saved: fasterrcnn_resnet50_epoch_17.pth\n",
      "Epoch [17] Loss: 0.5753\n",
      "Model saved: fasterrcnn_resnet50_epoch_18.pth\n",
      "Epoch [18] Loss: 0.7367\n",
      "Model saved: fasterrcnn_resnet50_epoch_19.pth\n",
      "Epoch [19] Loss: 0.6426\n",
      "Model saved: fasterrcnn_resnet50_epoch_20.pth\n",
      "Epoch [20] Loss: 0.7184\n",
      "Model saved: fasterrcnn_resnet50_epoch_21.pth\n",
      "Epoch [21] Loss: 0.4436\n",
      "Model saved: fasterrcnn_resnet50_epoch_22.pth\n",
      "Epoch [22] Loss: 0.7939\n",
      "Model saved: fasterrcnn_resnet50_epoch_23.pth\n",
      "Epoch [23] Loss: 0.6826\n",
      "Model saved: fasterrcnn_resnet50_epoch_24.pth\n",
      "Epoch [24] Loss: 0.6718\n",
      "Model saved: fasterrcnn_resnet50_epoch_25.pth\n"
     ]
    }
   ],
   "source": [
    "# Training loop\n",
    "num_epochs = 25\n",
    "for epoch in range(num_epochs):\n",
    "    train_one_epoch(model, optimizer, train_loader, device, epoch)\n",
    "    lr_scheduler.step()\n",
    "\n",
    "    # Save the model's state dictionary after every epoch\n",
    "    model_path = f\"fasterrcnn_resnet50_epoch_{epoch + 1}.pth\"\n",
    "    torch.save(model.state_dict(), model_path)\n",
    "    print(f\"Model saved: {model_path}\")"
   ]
  }
 ],
 "metadata": {
  "accelerator": "GPU",
  "colab": {
   "gpuType": "T4",
   "provenance": []
  },
  "kernelspec": {
   "display_name": "tGPU3.8",
   "language": "python",
   "name": "python3"
  },
  "language_info": {
   "codemirror_mode": {
    "name": "ipython",
    "version": 3
   },
   "file_extension": ".py",
   "mimetype": "text/x-python",
   "name": "python",
   "nbconvert_exporter": "python",
   "pygments_lexer": "ipython3",
   "version": "3.8.19"
  }
 },
 "nbformat": 4,
 "nbformat_minor": 0
}
